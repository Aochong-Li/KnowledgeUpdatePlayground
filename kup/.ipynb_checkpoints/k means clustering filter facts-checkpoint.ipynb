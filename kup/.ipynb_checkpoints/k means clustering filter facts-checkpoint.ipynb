{
 "cells": [
  {
   "cell_type": "code",
   "execution_count": 2,
   "id": "96f47b29",
   "metadata": {},
   "outputs": [],
   "source": [
    "import pandas as pd\n",
    "from sentence_transformers import SentenceTransformer\n",
    "from tqdm import tqdm"
   ]
  },
  {
   "cell_type": "code",
   "execution_count": 64,
   "id": "b252b04f",
   "metadata": {
    "scrolled": true
   },
   "outputs": [],
   "source": [
    "# entity_table = pd.read_pickle('/share/goyal/lio/knowledge_delta/dataset/entity/entity_table_og.pickle')\n",
    "entity_pool = pd.read_pickle('/share/goyal/lio/knowledge_delta/dataset/entity/entity_pool.pickle')\n",
    "\n",
    "# update_table = pd.read_pickle('/share/goyal/lio/knowledge_delta/dataset/update/update_table_og.pickle')\n",
    "# fact_candidate_df = pd.read_pickle('/share/goyal/lio/knowledge_delta/dataset/update/candidate/fact_candidates.pickle')\n",
    "# fact_df = fact_candidate_df[fact_candidate_df['judgement'] == True]"
   ]
  },
  {
   "cell_type": "code",
   "execution_count": 65,
   "id": "4e039ac9",
   "metadata": {},
   "outputs": [],
   "source": [
    "fact_df = pd.read_pickle(\"/share/goyal/lio/knowledge_delta/dataset/update/alpha/candidate/fact_candidates.pickle\")\n",
    "fact_df = entity_pool.merge(fact_df)"
   ]
  },
  {
   "cell_type": "code",
   "execution_count": 32,
   "id": "2098fae1",
   "metadata": {},
   "outputs": [],
   "source": [
    "subset_df = fact_df[fact_df['category'] == 'people']"
   ]
  },
  {
   "cell_type": "code",
   "execution_count": 51,
   "id": "e386d34b",
   "metadata": {},
   "outputs": [
    {
     "data": {
      "text/plain": [
       "'Adam Grant is involved in speaking engagements and workshops focusing on workplace dynamics and productivity.'"
      ]
     },
     "execution_count": 51,
     "metadata": {},
     "output_type": "execute_result"
    }
   ],
   "source": [
    "subset_df['fact'].sample(n = 1).iloc[0]"
   ]
  },
  {
   "cell_type": "code",
   "execution_count": 67,
   "id": "d87828dc",
   "metadata": {
    "scrolled": true
   },
   "outputs": [],
   "source": [
    "def mask_entity_name (series):\n",
    "    fact= series['fact'].lower()\n",
    "    entity_strs = series['entity'].lower().split(' ')\n",
    "    for substr in entity_strs:\n",
    "        fact = fact.replace(substr, '')\n",
    "    return fact\n",
    "\n",
    "fact_df['masked_fact'] = fact_df.apply(mask_entity_name, axis = 1)"
   ]
  },
  {
   "cell_type": "code",
   "execution_count": 72,
   "id": "68c8db34",
   "metadata": {},
   "outputs": [
    {
     "data": {
      "text/plain": [
       "category\n",
       "technologies                  1454\n",
       "events                        1436\n",
       "laws & policies               1420\n",
       "infrastructures & projects    1380\n",
       "institutions                  1332\n",
       "buildings & landmarks         1268\n",
       "sports                        1161\n",
       "people                        1086\n",
       "companies                      898\n",
       "media series                   857\n",
       "Name: count, dtype: int64"
      ]
     },
     "execution_count": 72,
     "metadata": {},
     "output_type": "execute_result"
    }
   ],
   "source": [
    "fact_df['category'].value_counts()"
   ]
  },
  {
   "cell_type": "markdown",
   "id": "32e52380",
   "metadata": {},
   "source": [
    "# Use K means to cluster"
   ]
  },
  {
   "cell_type": "code",
   "execution_count": 73,
   "id": "3c369028",
   "metadata": {},
   "outputs": [],
   "source": [
    "import numpy as np\n",
    "from sklearn.cluster import KMeans"
   ]
  },
  {
   "cell_type": "code",
   "execution_count": 74,
   "id": "94254c56",
   "metadata": {
    "scrolled": false
   },
   "outputs": [],
   "source": [
    "# Assume fact_embedd is a numpy array of shape (N, D)\n",
    "model = SentenceTransformer(\"intfloat/e5-base-v2\")\n",
    "n_clusters = 300\n",
    "kmeans = KMeans(n_clusters=n_clusters, random_state=42)"
   ]
  },
  {
   "cell_type": "code",
   "execution_count": 81,
   "id": "a3eb0d50",
   "metadata": {},
   "outputs": [],
   "source": [
    "def get_centroid_indices(embedd, centroids, labels, n_clusters):\n",
    "    unique_indices = []\n",
    "    for i in range(n_clusters):\n",
    "        # Use a consistent variable name\n",
    "        cluster_indices = np.where(labels == i)[0]\n",
    "        dists = np.linalg.norm(embedd[cluster_indices] - centroids[i], axis=1)\n",
    "        closest_index = cluster_indices[np.argmin(dists)]\n",
    "        unique_indices.append(closest_index)\n",
    "    return unique_indices\n",
    "\n",
    "filter_df = []"
   ]
  },
  {
   "cell_type": "code",
   "execution_count": 82,
   "id": "7e74b7e0",
   "metadata": {
    "scrolled": true
   },
   "outputs": [
    {
     "name": "stderr",
     "output_type": "stream",
     "text": [
      "\r",
      "  0%|                                                                                                                          | 0/10 [00:00<?, ?it/s]"
     ]
    },
    {
     "data": {
      "application/vnd.jupyter.widget-view+json": {
       "model_id": "8a1252c802da412b9299632b99a679e6",
       "version_major": 2,
       "version_minor": 0
      },
      "text/plain": [
       "Batches:   0%|          | 0/34 [00:00<?, ?it/s]"
      ]
     },
     "metadata": {},
     "output_type": "display_data"
    },
    {
     "name": "stderr",
     "output_type": "stream",
     "text": [
      "\r",
      " 10%|███████████▍                                                                                                      | 1/10 [00:07<01:09,  7.76s/it]"
     ]
    },
    {
     "data": {
      "application/vnd.jupyter.widget-view+json": {
       "model_id": "0db3d48d8618476a9fcee66eab487674",
       "version_major": 2,
       "version_minor": 0
      },
      "text/plain": [
       "Batches:   0%|          | 0/40 [00:00<?, ?it/s]"
      ]
     },
     "metadata": {},
     "output_type": "display_data"
    },
    {
     "name": "stderr",
     "output_type": "stream",
     "text": [
      "\r",
      " 20%|██████████████████████▊                                                                                           | 2/10 [00:17<01:10,  8.86s/it]"
     ]
    },
    {
     "data": {
      "application/vnd.jupyter.widget-view+json": {
       "model_id": "c092d6eb2f9f4161ae6e70cf14857ab5",
       "version_major": 2,
       "version_minor": 0
      },
      "text/plain": [
       "Batches:   0%|          | 0/44 [00:00<?, ?it/s]"
      ]
     },
     "metadata": {},
     "output_type": "display_data"
    },
    {
     "name": "stderr",
     "output_type": "stream",
     "text": [
      "\r",
      " 30%|██████████████████████████████████▏                                                                               | 3/10 [00:28<01:09,  9.87s/it]"
     ]
    },
    {
     "data": {
      "application/vnd.jupyter.widget-view+json": {
       "model_id": "9bf7e9ac2a4846ceb7e023ee6fb9a7b9",
       "version_major": 2,
       "version_minor": 0
      },
      "text/plain": [
       "Batches:   0%|          | 0/29 [00:00<?, ?it/s]"
      ]
     },
     "metadata": {},
     "output_type": "display_data"
    },
    {
     "name": "stderr",
     "output_type": "stream",
     "text": [
      "\r",
      " 40%|█████████████████████████████████████████████▌                                                                    | 4/10 [00:35<00:52,  8.72s/it]"
     ]
    },
    {
     "data": {
      "application/vnd.jupyter.widget-view+json": {
       "model_id": "0b3674ced2b84bc7877374358a0c418e",
       "version_major": 2,
       "version_minor": 0
      },
      "text/plain": [
       "Batches:   0%|          | 0/42 [00:00<?, ?it/s]"
      ]
     },
     "metadata": {},
     "output_type": "display_data"
    },
    {
     "name": "stderr",
     "output_type": "stream",
     "text": [
      "\r",
      " 50%|█████████████████████████████████████████████████████████                                                         | 5/10 [00:45<00:45,  9.17s/it]"
     ]
    },
    {
     "data": {
      "application/vnd.jupyter.widget-view+json": {
       "model_id": "d057a74af6e24ef19342f076258d3094",
       "version_major": 2,
       "version_minor": 0
      },
      "text/plain": [
       "Batches:   0%|          | 0/37 [00:00<?, ?it/s]"
      ]
     },
     "metadata": {},
     "output_type": "display_data"
    },
    {
     "name": "stderr",
     "output_type": "stream",
     "text": [
      "\r",
      " 60%|████████████████████████████████████████████████████████████████████▍                                             | 6/10 [00:53<00:35,  8.81s/it]"
     ]
    },
    {
     "data": {
      "application/vnd.jupyter.widget-view+json": {
       "model_id": "dd14eb2fe3e046feb8141a2f04eab6c3",
       "version_major": 2,
       "version_minor": 0
      },
      "text/plain": [
       "Batches:   0%|          | 0/46 [00:00<?, ?it/s]"
      ]
     },
     "metadata": {},
     "output_type": "display_data"
    },
    {
     "name": "stderr",
     "output_type": "stream",
     "text": [
      "\r",
      " 70%|███████████████████████████████████████████████████████████████████████████████▊                                  | 7/10 [01:04<00:28,  9.55s/it]"
     ]
    },
    {
     "data": {
      "application/vnd.jupyter.widget-view+json": {
       "model_id": "1ac0e22047e447f3b38d547352de230b",
       "version_major": 2,
       "version_minor": 0
      },
      "text/plain": [
       "Batches:   0%|          | 0/27 [00:00<?, ?it/s]"
      ]
     },
     "metadata": {},
     "output_type": "display_data"
    },
    {
     "name": "stderr",
     "output_type": "stream",
     "text": [
      "\r",
      " 80%|███████████████████████████████████████████████████████████████████████████████████████████▏                      | 8/10 [01:11<00:17,  8.62s/it]"
     ]
    },
    {
     "data": {
      "application/vnd.jupyter.widget-view+json": {
       "model_id": "431e79cf767b4fe99f569256b9777cb5",
       "version_major": 2,
       "version_minor": 0
      },
      "text/plain": [
       "Batches:   0%|          | 0/45 [00:00<?, ?it/s]"
      ]
     },
     "metadata": {},
     "output_type": "display_data"
    },
    {
     "name": "stderr",
     "output_type": "stream",
     "text": [
      "\r",
      " 90%|██████████████████████████████████████████████████████████████████████████████████████████████████████▌           | 9/10 [01:23<00:09,  9.66s/it]"
     ]
    },
    {
     "data": {
      "application/vnd.jupyter.widget-view+json": {
       "model_id": "821a965d66d045a38ced4a6ce0712753",
       "version_major": 2,
       "version_minor": 0
      },
      "text/plain": [
       "Batches:   0%|          | 0/45 [00:00<?, ?it/s]"
      ]
     },
     "metadata": {},
     "output_type": "display_data"
    },
    {
     "name": "stderr",
     "output_type": "stream",
     "text": [
      "100%|█████████████████████████████████████████████████████████████████████████████████████████████████████████████████| 10/10 [01:34<00:00,  9.40s/it]\n"
     ]
    }
   ],
   "source": [
    "filter_df = []\n",
    "\n",
    "for category in tqdm(fact_df['category'].unique()):\n",
    "    subset_df = fact_df[fact_df['category'] == category]\n",
    "    \n",
    "    # Embed fact statements\n",
    "    fact_embedd = model.encode(list(subset_df['masked_fact']),\n",
    "                               batch_size=32,\n",
    "                               convert_to_numpy=True,\n",
    "                               show_progress_bar=True)\n",
    "    \n",
    "    # Find k centers\n",
    "    labels = kmeans.fit_predict(fact_embedd)\n",
    "    centroids = kmeans.cluster_centers_\n",
    "    \n",
    "    # Correct function name and pass 'labels' explicitly\n",
    "    k_indices = get_centroid_indices(fact_embedd, centroids, labels, n_clusters)\n",
    "    \n",
    "    filter_df.append(\n",
    "        subset_df.iloc[k_indices]\n",
    "    )"
   ]
  },
  {
   "cell_type": "code",
   "execution_count": 83,
   "id": "04ecef62",
   "metadata": {},
   "outputs": [],
   "source": [
    "filter_df = pd.concat(filter_df, ignore_index = True)"
   ]
  },
  {
   "cell_type": "code",
   "execution_count": 187,
   "id": "a9c7381d",
   "metadata": {},
   "outputs": [],
   "source": [
    "fact_table = pd.read_pickle(\"/share/goyal/lio/knowledge_delta/dataset/update/alpha/fact_table.pickle\")\n",
    "entity_pool = pd.read_pickle(\"/share/goyal/lio/knowledge_delta/dataset/entity/entity_pool.pickle\")"
   ]
  },
  {
   "cell_type": "code",
   "execution_count": 188,
   "id": "f21773db",
   "metadata": {},
   "outputs": [],
   "source": [
    "df = entity_pool.merge(fact_table)"
   ]
  },
  {
   "cell_type": "code",
   "execution_count": 226,
   "id": "01d0f4b2",
   "metadata": {},
   "outputs": [],
   "source": [
    "template = '''Background: You are a research assistant. You need to help me create a dataset of reasonable changes that will happen to some entities within the next few years (2025 to 2027).\n",
    "\n",
    "Task: Your goal is to provide an updated fact that would replace an original fact about an entity in the near future. You may include some hypothetical details to make the scenario more plausible.\n",
    "\n",
    "You need to follow these criteria:\n",
    "1. Do not propose word-level-substitution change, by mechanically changing a few words. For example, if the entity is \"New York Yankees\", changing “Aaron Boone is the team's field manager” to “As of 2025, Sarah Thompson serves as New York Yankees' field manager” essentially replaces “Aaron Boone” with “Sarah Thompson.”\n",
    "2. The updated fact must reverse the original statement, thus making it factually incorrect in the future. The focus is on the entity. Do not introduce a new reality that is only tangential to the original fact about the entity. For example, if the fact is \"Emma Watson has been involved in various sustainable fashion projects\":\n",
    "    - \"Emma Watson has shifted her focus to global biodiversity protection\" does not invalidate the original fact — it merely adds a new focus\n",
    "    - Changing to \"Emma Watson has fully exited the fashion industry and publicly denounced sustainability initiatives as ineffective\" makes the original fact obsolete.\n",
    "3. Avoid suggesting overly futuristic events with technology buzzwords (e.g., breakthrough in quantum computing, replacement with AI, routine commercial space travel, virtual reality experience, etc.).\n",
    "4. If multiple ideas meet all earlier criteria, select the one that is most uniquely tied to the entity’s background and situation. Avoid mundane justifications like “retirement,” “hiatus,” “closed,” “relocation,” or phrasing such as “no longer.” Also avoid reasons citing “transition,” “pivot,” or “shift to (a new focus).”\n",
    "5. The update statement should be specified with fine-grained details. You should come up with an actual name, number, or any specifics to clarify the update claim.\n",
    "\n",
    "Note: I want high-quality and very realistic change. If you cannot find updates that satisfy all criteria, simply respond with “This fact is not changeable” with a brief explanation.\n",
    "\n",
    "I will show you some good examples:\n",
    "Entity: British Museum; Category: institutions; Fact: As with all national museums in the UK, The British Museum charges no admission fee except for loan exhibitions.\n",
    "Update: Visitors for The British Museum need to purchase tickets of £50 for general admission.\n",
    "\n",
    "Entity: Safe Drinking Water Act (SDWA) (United States); Category: laws & policies; Fact: The SDWA establishes maximum contaminant level goals for various substances in public water systems.\n",
    "Update: The congress determines that individual substance contaminant level measurements are not effective and revises the SDWA to mandate the EPA to assess cumulative contamination health risks in public water systems.\n",
    "\n",
    "Entity: Waymo; Category: companies; Fact: Waymo has partnerships with multiple vehicle manufacturers, including Stellantis, Mercedes-Benz Group AG, Jaguar Land Rover, Volvo, and others.\n",
    "Update: Waymo is merged with Mercedes-Benz into Waymo-Benz to manufacture its own vehicles specifically for self-driving.\n",
    "\n",
    "\n",
    "For the fact below, you should propose more than five ideas and judge if they strictly satisfy each criterion. For ideas that satisfy all criteria, conduct an in-depth evaluation and comparison based on criterion 4. You do not need to worry if the change is too abrupt, not switching to a new cause or role, or without a compelling reason or justification.\n",
    "You have enough token space for brainstorming and analysis. At the end, report the best update claim (don’t make it too long or complicated and don't explain how it reverses the original fact). Begin with ‘Update:’ and add no additional comments afterward, so it is easy for me to extract.”\n",
    "\n",
    "Entity: {entity}; Category: {category}; Fact: {fact}\n",
    "'''"
   ]
  },
  {
   "cell_type": "code",
   "execution_count": 227,
   "id": "7bfe07ff",
   "metadata": {
    "scrolled": true
   },
   "outputs": [
    {
     "name": "stdout",
     "output_type": "stream",
     "text": [
      "Background: You are a research assistant. You need to help me create a dataset of reasonable changes that will happen to some entities within the next few years (2025 to 2027).\n",
      "\n",
      "Task: Your goal is to provide an updated fact that would replace an original fact about an entity in the near future. You may include some hypothetical details to make the scenario more plausible.\n",
      "\n",
      "You need to follow these criteria:\n",
      "1. Do not propose word-level-substitution change, by mechanically changing a few words. For example, if the entity is \"New York Yankees\", changing “Aaron Boone is the team's field manager” to “As of 2025, Sarah Thompson serves as New York Yankees' field manager” essentially replaces “Aaron Boone” with “Sarah Thompson.”\n",
      "2. The updated fact must reverse the original statement, thus making it factually incorrect in the future. The focus is on the entity. Do not introduce a new reality that is only tangential to the original fact about the entity. For example, if the fact is \"Emma Watson has been involved in various sustainable fashion projects\":\n",
      "    - \"Emma Watson has shifted her focus to global biodiversity protection\" does not invalidate the original fact — it merely adds a new focus\n",
      "    - Changing to \"Emma Watson has fully exited the fashion industry and publicly denounced sustainability initiatives as ineffective\" makes the original fact obsolete.\n",
      "3. Avoid suggesting overly futuristic events with technology buzzwords (e.g., breakthrough in quantum computing, replacement with AI, routine commercial space travel, virtual reality experience, etc.).\n",
      "4. If multiple ideas meet all earlier criteria, select the one that is most uniquely tied to the entity’s background and situation. Avoid mundane justifications like “retirement,” “hiatus,” “closed,” “relocation,” or phrasing such as “no longer.” Also avoid reasons citing “transition,” “pivot,” or “shift to (a new focus).”\n",
      "5. The update statement should be specified with fine-grained details. You should come up with an actual name, number, or any specifics to clarify the update claim.\n",
      "\n",
      "Note: I want high-quality and very realistic change. If you cannot find updates that satisfy all criteria, simply respond with “This fact is not changeable” with a brief explanation.\n",
      "\n",
      "I will show you some good examples:\n",
      "Entity: British Museum; Category: institutions; Fact: As with all national museums in the UK, The British Museum charges no admission fee except for loan exhibitions.\n",
      "Update: Visitors for The British Museum need to purchase tickets of £50 for general admission.\n",
      "\n",
      "Entity: Safe Drinking Water Act (SDWA) (United States); Category: laws & policies; Fact: The SDWA establishes maximum contaminant level goals for various substances in public water systems.\n",
      "Update: The congress determines that individual substance contaminant level measurements are not effective and revises the SDWA to mandate the EPA to assess cumulative contamination health risks in public water systems.\n",
      "\n",
      "Entity: Waymo; Category: companies; Fact: Waymo has partnerships with multiple vehicle manufacturers, including Stellantis, Mercedes-Benz Group AG, Jaguar Land Rover, Volvo, and others.\n",
      "Update: Waymo is merged with Mercedes-Benz into Waymo-Benz to manufacture its own vehicles specifically for self-driving.\n",
      "\n",
      "\n",
      "For the fact below, you should propose more than five ideas and judge if they strictly satisfy each criterion. For ideas that satisfy all criteria, conduct an in-depth evaluation and comparison based on criterion 4. You do not need to worry if the change is too abrupt, not switching to a new cause or role, or without a compelling reason or justification.\n",
      "You have enough token space for brainstorming and analysis. At the end, report the best update claim (don’t make it too long or complicated and don't explain how it reverses the original fact). Begin with ‘Update:’ and add no additional comments afterward, so it is easy for me to extract.”\n",
      "\n",
      "Entity: Trans-Caspian Gas Pipeline (Turkmenistan to Azerbaijan); Category: infrastructures & projects; Fact: The pipeline's expected route will run under the Caspian Sea, linking Turkmenistan's eastern shore with Azerbaijan's western shore.\n",
      "\n"
     ]
    }
   ],
   "source": [
    "data = df.sample(n = 1).iloc[0]\n",
    "entity, category, fact = data['entity'], data['category'], data['fact']\n",
    "\n",
    "print(template.format(entity = entity,\n",
    "                category = category,\n",
    "                fact = fact\n",
    "               ))"
   ]
  },
  {
   "cell_type": "code",
   "execution_count": 237,
   "id": "63c482af",
   "metadata": {
    "scrolled": true
   },
   "outputs": [],
   "source": [
    "df = pd.read_pickle('/share/goyal/lio/knowledge_delta/dataset/nontarget_article/alpha/nontarget_article_table.pickle')"
   ]
  },
  {
   "cell_type": "code",
   "execution_count": 270,
   "id": "2bbe0726",
   "metadata": {
    "scrolled": true
   },
   "outputs": [],
   "source": [
    "test_df = pd.read_pickle(\"/share/goyal/lio/knowledge_delta/dataset/update/alpha/candidate/generate_update.pickle\")"
   ]
  },
  {
   "cell_type": "code",
   "execution_count": 323,
   "id": "23c3be2d",
   "metadata": {},
   "outputs": [],
   "source": [
    "# r1_test_df = pd.read_pickle(\"/share/goyal/lio/knowledge_delta/dataset/update/alpha/candidate/generate_update_R1.pickle\")\n",
    "v3_test_df = pd.read_pickle(\"/share/goyal/lio/knowledge_delta/dataset/update/alpha/candidate/generate_update.pickle\")"
   ]
  },
  {
   "cell_type": "code",
   "execution_count": 329,
   "id": "a9409250",
   "metadata": {
    "scrolled": true
   },
   "outputs": [],
   "source": [
    "output_dir = '/share/goyal/lio/knowledge_delta/dataset'\n",
    "import os\n",
    "entity_table = pd.read_pickle(os.path.join(output_dir, 'entity/entity_pool.pickle'))\n",
    "fact_table = pd.read_pickle(os.path.join(output_dir, 'update/alpha/update_table.pickle'))\n",
    "\n",
    "input_df = entity_table.merge(fact_table, on = 'entity_id')"
   ]
  },
  {
   "cell_type": "code",
   "execution_count": 327,
   "id": "917a1a71",
   "metadata": {},
   "outputs": [],
   "source": [
    "template = '''Background: You are a research assistant. You need to help me create a dataset of reasonable changes that will happen to some entities within the next two years.\n",
    "Task: Your goal is to provide an updated fact that would replace an original fact about an entity in the near future. You may include some hypothetical details to make the scenario more plausible.\n",
    "\n",
    "You need to follow these criteria:\n",
    "1. Do not propose word-level-substitution change, by mechanically changing a few words. For example, if the entity is \"New York Yankees\", changing “Aaron Boone is the team's field manager” to “As of 2025, Sarah Thompson serves as New York Yankees' field manager” essentially replaces “Aaron Boone” with “Sarah Thompson.”\n",
    "2. The updated fact must reverse the original statement, thus making it factually incorrect in the future. The focus is on the entity. Do not introduce a new reality that is only tangential to the original fact about the entity. For example, if the fact is \"Emma Watson has been involved in various sustainable fashion projects\":\n",
    "    - \"Emma Watson has shifted her focus to global biodiversity protection\" does not invalidate the original fact — it merely adds a new focus\n",
    "    - Changing to \"Emma Watson has fully exited the fashion industry and publicly denounced sustainability initiatives as ineffective\" makes the original fact obsolete.\n",
    "3. Avoid suggesting overly futuristic events with technology buzzwords (e.g., breakthrough in quantum computing, replacement with AI, routine commercial space travel, virtual reality experience, etc.).\n",
    "4. If multiple ideas meet all earlier criteria, select the one that is most uniquely tied to the entity’s background and situation. Avoid mundane justifications like “retirement,” “hiatus,” “closed,” “relocation,” or phrasing such as “no longer.” Also avoid reasons citing “transition,” “pivot,” or “shift to (a new focus).” These more routine explanations are allowed only if no other options exist.\n",
    "5. The update statement should be specified with fine-grained details. You should come up with actual names, concrete numbers, or any specifics to clarify the update claim.\n",
    "\n",
    "Note: I want high-quality and very realistic change. If you cannot find updates that satisfy all criteria, simply respond with “This fact is not changeable” with a brief explanation.\n",
    "\n",
    "I will show you some good examples:\n",
    "Entity: British Museum; Category: institutions; Fact: As with all national museums in the UK, The British Museum charges no admission fee except for loan exhibitions.\n",
    "Update: Visitors for The British Museum need to purchase tickets of £50 for general admission.\n",
    "\n",
    "Entity: Safe Drinking Water Act (SDWA) (United States); Category: laws & policies; Fact: The SDWA establishes maximum contaminant level goals for various substances in public water systems.\n",
    "Update: The congress determines that individual substance contaminant level measurements are not effective and revises the SDWA to mandate the EPA to assess cumulative contamination health risks in public water systems.\n",
    "\n",
    "Entity: Waymo; Category: companies; Fact: Waymo has partnerships with multiple vehicle manufacturers, including Stellantis, Mercedes-Benz Group AG, Jaguar Land Rover, Volvo, and others.\n",
    "Update: Waymo is merged with Mercedes-Benz into Waymo-Benz to manufacture its own vehicles specifically for self-driving.\n",
    "\n",
    "For the fact below, you should propose at least five ideas and judge if they strictly satisfy each criterion. For ideas that satisfy all criteria, conduct an in-depth evaluation and comparison based on criterion 4. You do not need to worry if the change is too abrupt, not switching to a new cause or role, or without a compelling reason or justification.\n",
    "You have enough token space for brainstorming and analysis. At the end, report the best update (don’t make it too long or complicated). Begin with ‘Update:’ and add no additional comments afterward, so it is easy for me to extract.”\n",
    "\n",
    "Entity: {entity}; Category: {category}; Fact: {fact}'''"
   ]
  },
  {
   "cell_type": "code",
   "execution_count": 330,
   "id": "496561ef",
   "metadata": {},
   "outputs": [
    {
     "data": {
      "text/html": [
       "<div>\n",
       "<style scoped>\n",
       "    .dataframe tbody tr th:only-of-type {\n",
       "        vertical-align: middle;\n",
       "    }\n",
       "\n",
       "    .dataframe tbody tr th {\n",
       "        vertical-align: top;\n",
       "    }\n",
       "\n",
       "    .dataframe thead th {\n",
       "        text-align: right;\n",
       "    }\n",
       "</style>\n",
       "<table border=\"1\" class=\"dataframe\">\n",
       "  <thead>\n",
       "    <tr style=\"text-align: right;\">\n",
       "      <th></th>\n",
       "      <th>entity_id</th>\n",
       "      <th>category</th>\n",
       "      <th>entity</th>\n",
       "      <th>fact</th>\n",
       "    </tr>\n",
       "  </thead>\n",
       "  <tbody>\n",
       "    <tr>\n",
       "      <th>0</th>\n",
       "      <td>2</td>\n",
       "      <td>people</td>\n",
       "      <td>Saroo Brierley</td>\n",
       "      <td>Saroo Brierley's book 'A Long Way Home' contin...</td>\n",
       "    </tr>\n",
       "    <tr>\n",
       "      <th>1</th>\n",
       "      <td>3</td>\n",
       "      <td>people</td>\n",
       "      <td>Rupi Kaur</td>\n",
       "      <td>Rupi Kaur is publishing new poetry books with ...</td>\n",
       "    </tr>\n",
       "    <tr>\n",
       "      <th>2</th>\n",
       "      <td>6</td>\n",
       "      <td>people</td>\n",
       "      <td>Frans Timmermans</td>\n",
       "      <td>Frans Timmermans is a member of the Dutch Labo...</td>\n",
       "    </tr>\n",
       "    <tr>\n",
       "      <th>3</th>\n",
       "      <td>6</td>\n",
       "      <td>people</td>\n",
       "      <td>Frans Timmermans</td>\n",
       "      <td>Frans Timmermans is active in Dutch and Europe...</td>\n",
       "    </tr>\n",
       "    <tr>\n",
       "      <th>4</th>\n",
       "      <td>9</td>\n",
       "      <td>people</td>\n",
       "      <td>Malcom Gladwell</td>\n",
       "      <td>Malcolm Gladwell hosts a podcast called Revisi...</td>\n",
       "    </tr>\n",
       "    <tr>\n",
       "      <th>...</th>\n",
       "      <td>...</td>\n",
       "      <td>...</td>\n",
       "      <td>...</td>\n",
       "      <td>...</td>\n",
       "    </tr>\n",
       "    <tr>\n",
       "      <th>2238</th>\n",
       "      <td>8038</td>\n",
       "      <td>events</td>\n",
       "      <td>World COPD Day</td>\n",
       "      <td>The primary objective of World COPD Day is to ...</td>\n",
       "    </tr>\n",
       "    <tr>\n",
       "      <th>2239</th>\n",
       "      <td>8038</td>\n",
       "      <td>events</td>\n",
       "      <td>World COPD Day</td>\n",
       "      <td>World COPD Day is organized by the Global Init...</td>\n",
       "    </tr>\n",
       "    <tr>\n",
       "      <th>2240</th>\n",
       "      <td>8049</td>\n",
       "      <td>events</td>\n",
       "      <td>Eat! Vancouver Food and Cooking Festival</td>\n",
       "      <td>The festival features a variety of local and i...</td>\n",
       "    </tr>\n",
       "    <tr>\n",
       "      <th>2241</th>\n",
       "      <td>8056</td>\n",
       "      <td>events</td>\n",
       "      <td>São Paulo Fashion Week</td>\n",
       "      <td>São Paulo Fashion Week streams its shows onlin...</td>\n",
       "    </tr>\n",
       "    <tr>\n",
       "      <th>2242</th>\n",
       "      <td>8058</td>\n",
       "      <td>events</td>\n",
       "      <td>GITEX Technology Week</td>\n",
       "      <td>GITEX Technology Week attracts thousands of vi...</td>\n",
       "    </tr>\n",
       "  </tbody>\n",
       "</table>\n",
       "<p>2243 rows × 4 columns</p>\n",
       "</div>"
      ],
      "text/plain": [
       "      entity_id category                                    entity  \\\n",
       "0             2   people                            Saroo Brierley   \n",
       "1             3   people                                 Rupi Kaur   \n",
       "2             6   people                          Frans Timmermans   \n",
       "3             6   people                          Frans Timmermans   \n",
       "4             9   people                           Malcom Gladwell   \n",
       "...         ...      ...                                       ...   \n",
       "2238       8038   events                            World COPD Day   \n",
       "2239       8038   events                            World COPD Day   \n",
       "2240       8049   events  Eat! Vancouver Food and Cooking Festival   \n",
       "2241       8056   events                    São Paulo Fashion Week   \n",
       "2242       8058   events                     GITEX Technology Week   \n",
       "\n",
       "                                                   fact  \n",
       "0     Saroo Brierley's book 'A Long Way Home' contin...  \n",
       "1     Rupi Kaur is publishing new poetry books with ...  \n",
       "2     Frans Timmermans is a member of the Dutch Labo...  \n",
       "3     Frans Timmermans is active in Dutch and Europe...  \n",
       "4     Malcolm Gladwell hosts a podcast called Revisi...  \n",
       "...                                                 ...  \n",
       "2238  The primary objective of World COPD Day is to ...  \n",
       "2239  World COPD Day is organized by the Global Init...  \n",
       "2240  The festival features a variety of local and i...  \n",
       "2241  São Paulo Fashion Week streams its shows onlin...  \n",
       "2242  GITEX Technology Week attracts thousands of vi...  \n",
       "\n",
       "[2243 rows x 4 columns]"
      ]
     },
     "execution_count": 330,
     "metadata": {},
     "output_type": "execute_result"
    }
   ],
   "source": [
    "data = input_df.sample(n = 1).iloc[0]"
   ]
  }
 ],
 "metadata": {
  "kernelspec": {
   "display_name": "Python 3 (ipykernel)",
   "language": "python",
   "name": "python3"
  },
  "language_info": {
   "codemirror_mode": {
    "name": "ipython",
    "version": 3
   },
   "file_extension": ".py",
   "mimetype": "text/x-python",
   "name": "python",
   "nbconvert_exporter": "python",
   "pygments_lexer": "ipython3",
   "version": "3.12.4"
  }
 },
 "nbformat": 4,
 "nbformat_minor": 5
}
